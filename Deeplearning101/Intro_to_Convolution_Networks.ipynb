{
  "nbformat": 4,
  "nbformat_minor": 0,
  "metadata": {
    "colab": {
      "name": "Intro to Convolution Networks",
      "provenance": [],
      "collapsed_sections": []
    },
    "kernelspec": {
      "name": "python3",
      "display_name": "Python 3"
    }
  },
  "cells": [
    {
      "cell_type": "markdown",
      "metadata": {
        "id": "onZ1_iNNhmNR"
      },
      "source": [
        "**In this exersise We will work on Fashion MNIST data set.**"
      ]
    },
    {
      "cell_type": "code",
      "metadata": {
        "id": "mnUw46bjhXVk"
      },
      "source": [
        "# Import tensorflow library\n",
        "import tensorflow as tf"
      ],
      "execution_count": null,
      "outputs": []
    },
    {
      "cell_type": "code",
      "metadata": {
        "id": "1T87Xbj3h9nr"
      },
      "source": [
        "# Load the MNIST data set from keras datasets API\n",
        "mnist = tf.keras.datasets.fashion_mnist"
      ],
      "execution_count": null,
      "outputs": []
    },
    {
      "cell_type": "code",
      "metadata": {
        "id": "ucXxsIwiiV11",
        "outputId": "2f57e3d2-c16f-47b9-ee9e-4238dd8cc435",
        "colab": {
          "base_uri": "https://localhost:8080/",
          "height": 153
        }
      },
      "source": [
        "# Assign train and test data while loading the dataset\n",
        "(training_images, training_labels),(test_images, test_labels) = mnist.load_data()"
      ],
      "execution_count": null,
      "outputs": [
        {
          "output_type": "stream",
          "text": [
            "Downloading data from https://storage.googleapis.com/tensorflow/tf-keras-datasets/train-labels-idx1-ubyte.gz\n",
            "32768/29515 [=================================] - 0s 0us/step\n",
            "Downloading data from https://storage.googleapis.com/tensorflow/tf-keras-datasets/train-images-idx3-ubyte.gz\n",
            "26427392/26421880 [==============================] - 0s 0us/step\n",
            "Downloading data from https://storage.googleapis.com/tensorflow/tf-keras-datasets/t10k-labels-idx1-ubyte.gz\n",
            "8192/5148 [===============================================] - 0s 0us/step\n",
            "Downloading data from https://storage.googleapis.com/tensorflow/tf-keras-datasets/t10k-images-idx3-ubyte.gz\n",
            "4423680/4422102 [==============================] - 0s 0us/step\n"
          ],
          "name": "stdout"
        }
      ]
    },
    {
      "cell_type": "code",
      "metadata": {
        "id": "4t10QUMX8MF9"
      },
      "source": [
        "training_images=training_images.reshape(60000, 28, 28, 1)\n",
        "test_images = test_images.reshape(10000, 28, 28, 1)"
      ],
      "execution_count": null,
      "outputs": []
    },
    {
      "cell_type": "code",
      "metadata": {
        "id": "E8qeVCqTkuZ8"
      },
      "source": [
        "training_images = training_images / 255\n",
        "test_images = test_images /255"
      ],
      "execution_count": null,
      "outputs": []
    },
    {
      "cell_type": "code",
      "metadata": {
        "id": "UmqIL4zh21_k"
      },
      "source": [
        "class myCallback(tf.keras.callbacks.Callback):\n",
        "  def on_epoch_end(self, epoch, logs={}):\n",
        "    if(logs.get('accuracy')>0.95):\n",
        "      print(\"\\nReached 95% accuracy so cancelling training!\")\n",
        "      self.model.stop_training = True"
      ],
      "execution_count": null,
      "outputs": []
    },
    {
      "cell_type": "code",
      "metadata": {
        "id": "Qkbbix0O3IeR"
      },
      "source": [
        "callbacks = myCallback()"
      ],
      "execution_count": null,
      "outputs": []
    },
    {
      "cell_type": "markdown",
      "metadata": {
        "id": "yXqsR_XRmAS0"
      },
      "source": [
        "**Sequential**: Defines a SEQUENCE of layerrs in neural network\n",
        "\n",
        "**Flatten** : Turns square shape images into 1 dimmensional data set.\n",
        "\n",
        "**Dense** : Adds a layer of neurons\n",
        "\n",
        "Each layer of neurons need an **Activation Function** to tell them what to do\n",
        "\n",
        "**Relu** Effectively means \"*if x > 0 return x else 0\"*\n",
        "\n",
        "**Softmax** takes a set of values, and effectively picks the biggest one, Mostly used in final layer"
      ]
    },
    {
      "cell_type": "code",
      "metadata": {
        "id": "Jk9_kVp7lpmI"
      },
      "source": [
        "#Lets design the model\n",
        "model = tf.keras.models.Sequential([tf.keras.layers.Conv2D(32, (3,3), activation='relu', input_shape=(28, 28, 1)),\n",
        "                                    tf.keras.layers.MaxPooling2D(2, 2),\n",
        "                                    #Another layer of convolution\n",
        "                                    tf.keras.layers.Conv2D(64, (3,3), activation='relu'),\n",
        "                                    tf.keras.layers.MaxPooling2D(2,2),\n",
        "                                    tf.keras.layers.Flatten(),\n",
        "                                    tf.keras.layers.Dense(128, activation = tf.nn.relu),\n",
        "                                    tf.keras.layers.Dense(10,activation = tf.nn.softmax)])"
      ],
      "execution_count": null,
      "outputs": []
    },
    {
      "cell_type": "code",
      "metadata": {
        "id": "WXyZ-u9Qt8Kf",
        "outputId": "786ea916-1797-4c26-9b06-fe42f50cf9fa",
        "colab": {
          "base_uri": "https://localhost:8080/",
          "height": 374
        }
      },
      "source": [
        "model.compile(optimizer = tf.optimizers.Adam(),\n",
        "              loss = 'sparse_categorical_crossentropy',\n",
        "              metrics=['accuracy'])\n",
        "\n",
        "model.fit(training_images, training_labels, epochs=10, callbacks=[callbacks])"
      ],
      "execution_count": 15,
      "outputs": [
        {
          "output_type": "stream",
          "text": [
            "Epoch 1/10\n",
            "1875/1875 [==============================] - 49s 26ms/step - loss: 0.9130 - accuracy: 0.6604\n",
            "Epoch 2/10\n",
            "1875/1875 [==============================] - 49s 26ms/step - loss: 0.6279 - accuracy: 0.7619\n",
            "Epoch 3/10\n",
            "1875/1875 [==============================] - 49s 26ms/step - loss: 0.5474 - accuracy: 0.7933\n",
            "Epoch 4/10\n",
            "1875/1875 [==============================] - 49s 26ms/step - loss: 0.4977 - accuracy: 0.8150\n",
            "Epoch 5/10\n",
            "1875/1875 [==============================] - 49s 26ms/step - loss: 0.4650 - accuracy: 0.8278\n",
            "Epoch 6/10\n",
            "1875/1875 [==============================] - 49s 26ms/step - loss: 0.4389 - accuracy: 0.8386\n",
            "Epoch 7/10\n",
            "1875/1875 [==============================] - 49s 26ms/step - loss: 0.4193 - accuracy: 0.8479\n",
            "Epoch 8/10\n",
            "1875/1875 [==============================] - 48s 26ms/step - loss: 0.4015 - accuracy: 0.8518\n",
            "Epoch 9/10\n",
            "1875/1875 [==============================] - 48s 26ms/step - loss: 0.3868 - accuracy: 0.8578\n",
            "Epoch 10/10\n",
            "1875/1875 [==============================] - 49s 26ms/step - loss: 0.3714 - accuracy: 0.8629\n"
          ],
          "name": "stdout"
        },
        {
          "output_type": "execute_result",
          "data": {
            "text/plain": [
              "<tensorflow.python.keras.callbacks.History at 0x7f3dd20216d8>"
            ]
          },
          "metadata": {
            "tags": []
          },
          "execution_count": 15
        }
      ]
    },
    {
      "cell_type": "code",
      "metadata": {
        "id": "P3PVTNUo0qVQ",
        "outputId": "4e1f5845-9887-467d-8fac-42d43c312b4b",
        "colab": {
          "base_uri": "https://localhost:8080/",
          "height": 34
        }
      },
      "source": [
        "test_loss, test_acc = model.evaluate(test_images, test_labels)"
      ],
      "execution_count": 16,
      "outputs": [
        {
          "output_type": "stream",
          "text": [
            "313/313 [==============================] - 2s 8ms/step - loss: 0.3968 - accuracy: 0.8583\n"
          ],
          "name": "stdout"
        }
      ]
    }
  ]
}
