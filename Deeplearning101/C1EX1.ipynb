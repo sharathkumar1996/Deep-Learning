{
  "nbformat": 4,
  "nbformat_minor": 0,
  "metadata": {
    "colab": {
      "name": "C1EX1.ipynb",
      "provenance": [],
      "collapsed_sections": []
    },
    "kernelspec": {
      "name": "python3",
      "display_name": "Python 3"
    }
  },
  "cells": [
    {
      "cell_type": "markdown",
      "metadata": {
        "id": "jGkkGNRw_bGe"
      },
      "source": [
        "**Hello World of Deep Learning**"
      ]
    },
    {
      "cell_type": "code",
      "metadata": {
        "id": "wQYmBDve-BPP"
      },
      "source": [
        "# Import some required libraries\n",
        "import tensorflow as tf\n",
        "import numpy as np\n",
        "from tensorflow import keras"
      ],
      "execution_count": 2,
      "outputs": []
    },
    {
      "cell_type": "code",
      "metadata": {
        "id": "jqurEhlDAD2S"
      },
      "source": [
        "# Define the Neural Network\n",
        "model = tf.keras.Sequential([keras.layers.Dense(units=1,input_shape = [1])])"
      ],
      "execution_count": 3,
      "outputs": []
    },
    {
      "cell_type": "code",
      "metadata": {
        "id": "m5XrbbQYAvew"
      },
      "source": [
        "#Compile the Neural Network\n",
        "model.compile(optimizer='sgd', loss='mean_squared_error')"
      ],
      "execution_count": 4,
      "outputs": []
    },
    {
      "cell_type": "code",
      "metadata": {
        "id": "fTmLxqwcBTDH"
      },
      "source": [
        "#Providing the data\n",
        "X = [1,2,3,4,5,6,7,8,9,10]\n",
        "Y = [1,4,9,16,25,36,49,64,81,100]"
      ],
      "execution_count": 12,
      "outputs": []
    },
    {
      "cell_type": "code",
      "metadata": {
        "id": "Vd0n6UgjBqBi"
      },
      "source": [
        "model.fit(X,Y, epochs=1000)"
      ],
      "execution_count": null,
      "outputs": []
    },
    {
      "cell_type": "code",
      "metadata": {
        "id": "lW4GOnwzB6a0",
        "outputId": "a7e7e434-93cb-4fae-d985-6a6cd756f852",
        "colab": {
          "base_uri": "https://localhost:8080/",
          "height": 34
        }
      },
      "source": [
        "print(model.predict([11]))"
      ],
      "execution_count": 15,
      "outputs": [
        {
          "output_type": "stream",
          "text": [
            "[[98.89681]]\n"
          ],
          "name": "stdout"
        }
      ]
    }
  ]
}
